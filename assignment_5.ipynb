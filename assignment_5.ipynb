{
 "cells": [
  {
   "cell_type": "code",
   "execution_count": null,
   "id": "33e18a36",
   "metadata": {},
   "outputs": [],
   "source": [
    "Que.1 What does an empty dictionary's code look like?\n",
    "\n",
    "ANS. Empty Dictionary is represented by empty curly braces - {}"
   ]
  },
  {
   "cell_type": "code",
   "execution_count": 2,
   "id": "6982b70b",
   "metadata": {},
   "outputs": [
    {
     "data": {
      "text/plain": [
       "dict"
      ]
     },
     "execution_count": 2,
     "metadata": {},
     "output_type": "execute_result"
    }
   ],
   "source": [
    "a= {}\n",
    "type(a)"
   ]
  },
  {
   "cell_type": "code",
   "execution_count": null,
   "id": "68663122",
   "metadata": {},
   "outputs": [],
   "source": [
    "Que.2 What is the value of a dictionary value with the key 'foo' and the value 42? \n",
    "\n",
    "ANS.  value of this dictionary will be 42."
   ]
  },
  {
   "cell_type": "code",
   "execution_count": 12,
   "id": "166d3175",
   "metadata": {},
   "outputs": [
    {
     "name": "stdout",
     "output_type": "stream",
     "text": [
      "dict_values([42])\n"
     ]
    }
   ],
   "source": [
    "dictionary = {\"foo\" : 42}\n",
    "\n",
    "print(dictionary.values())"
   ]
  },
  {
   "cell_type": "code",
   "execution_count": null,
   "id": "dcd10b0c",
   "metadata": {},
   "outputs": [],
   "source": [
    "Que.3 What is the most significant distinction between a dictionary and a list?\n",
    "\n",
    "Ans - 1. Dictionaries are unordered whille list is an ordered sequence of objects.\n",
    "      2. List contains elements which can be of any datatype seperated by a cooma(,) while Dictionary contains elements\n",
    "         in the form of key:value pair."
   ]
  },
  {
   "cell_type": "code",
   "execution_count": 13,
   "id": "f14fe7fc",
   "metadata": {},
   "outputs": [],
   "source": [
    "l = [23,45.5,6+7j,\"ineuron\"]  #list containing elements of different data types\n",
    "d = {\"key\" : 45 ,\n",
    "      \"complex\" : 6+7j,\n",
    "       \"string\" : \"inueuron\"}  # dictionary with different key value pair"
   ]
  },
  {
   "cell_type": "code",
   "execution_count": null,
   "id": "81aa1b3a",
   "metadata": {},
   "outputs": [],
   "source": [
    "Que.4  What happens if you try to access spam['foo'] if spam is {'bar':100}?\n",
    "\n",
    "Ans.   It will throw a KeyError Error.      "
   ]
  },
  {
   "cell_type": "code",
   "execution_count": 15,
   "id": "f1929273",
   "metadata": {},
   "outputs": [
    {
     "ename": "KeyError",
     "evalue": "'foo'",
     "output_type": "error",
     "traceback": [
      "\u001b[1;31m---------------------------------------------------------------------------\u001b[0m",
      "\u001b[1;31mKeyError\u001b[0m                                  Traceback (most recent call last)",
      "\u001b[1;32mC:\\Users\\ROHITG~1\\AppData\\Local\\Temp/ipykernel_9508/1535709148.py\u001b[0m in \u001b[0;36m<module>\u001b[1;34m\u001b[0m\n\u001b[0;32m      1\u001b[0m \u001b[0mspam\u001b[0m \u001b[1;33m=\u001b[0m \u001b[1;33m{\u001b[0m\u001b[1;34m\"bar\"\u001b[0m\u001b[1;33m:\u001b[0m\u001b[1;36m100\u001b[0m\u001b[1;33m}\u001b[0m\u001b[1;33m\u001b[0m\u001b[1;33m\u001b[0m\u001b[0m\n\u001b[0;32m      2\u001b[0m \u001b[1;33m\u001b[0m\u001b[0m\n\u001b[1;32m----> 3\u001b[1;33m \u001b[0mspam\u001b[0m\u001b[1;33m[\u001b[0m\u001b[1;34m'foo'\u001b[0m\u001b[1;33m]\u001b[0m\u001b[1;33m\u001b[0m\u001b[1;33m\u001b[0m\u001b[0m\n\u001b[0m",
      "\u001b[1;31mKeyError\u001b[0m: 'foo'"
     ]
    }
   ],
   "source": [
    "spam = {\"bar\":100}\n",
    "\n",
    "spam['foo']"
   ]
  },
  {
   "cell_type": "code",
   "execution_count": null,
   "id": "e1a8e6f4",
   "metadata": {},
   "outputs": [],
   "source": [
    "Que.5 If a Dictionary is stored in Spam , What is the difference between the expression 'cat' in spam and 'cat'\n",
    "      in spam.keys()?\n",
    "      \n",
    "Ans.  There is no difference.\n",
    "      The operator checks whether a value exist as a key in the dictionary"
   ]
  },
  {
   "cell_type": "code",
   "execution_count": null,
   "id": "01d11e96",
   "metadata": {},
   "outputs": [],
   "source": [
    "Que.6 If a Dictionary is stored in spam, what is the difference between the expression \"cat\"in spam and 'cat' in\n",
    "      spam.values()?\n",
    "      \n",
    "      \n",
    "ANS.  'cat' in spam checks whether there is a 'cat' key in the dictionary,\n",
    "       while 'cat' in spam.values() checks whether there is a value 'cat' for one of the keys in spam.  "
   ]
  },
  {
   "cell_type": "code",
   "execution_count": null,
   "id": "5404df52",
   "metadata": {},
   "outputs": [],
   "source": [
    "Que.7  What is the shortcut for the following code?\n",
    "       if 'color' not in spam:\n",
    "       spam['color'] = 'black'\n",
    "       \n",
    "ANS.   spam.setdefault('color','black')\n",
    "\n",
    "       this is the shortcut for the above given operation"
   ]
  },
  {
   "cell_type": "code",
   "execution_count": null,
   "id": "886fac36",
   "metadata": {},
   "outputs": [],
   "source": [
    "Que.8  How do you \"pretty print\" dictionary values using which module and function?\n",
    "\n",
    "Ans-  pprint.pprint()\n",
    "\n",
    "      this is a python library that allows you to customize the formatting of the output.\n",
    "      "
   ]
  },
  {
   "cell_type": "code",
   "execution_count": 19,
   "id": "07a9dd39",
   "metadata": {},
   "outputs": [
    {
     "name": "stdout",
     "output_type": "stream",
     "text": [
      "dict_values(['value', 56])\n",
      "dict_values(['value', 56])\n"
     ]
    }
   ],
   "source": [
    "import pprint\n",
    "d = {\"key\": \"value\",\n",
    "     \"key2\":  56}\n",
    "\n",
    "print(d.values())\n",
    "\n",
    "pprint.pprint(d.values())"
   ]
  },
  {
   "cell_type": "code",
   "execution_count": null,
   "id": "fa794c3d",
   "metadata": {},
   "outputs": [],
   "source": []
  }
 ],
 "metadata": {
  "kernelspec": {
   "display_name": "Python 3 (ipykernel)",
   "language": "python",
   "name": "python3"
  },
  "language_info": {
   "codemirror_mode": {
    "name": "ipython",
    "version": 3
   },
   "file_extension": ".py",
   "mimetype": "text/x-python",
   "name": "python",
   "nbconvert_exporter": "python",
   "pygments_lexer": "ipython3",
   "version": "3.9.7"
  }
 },
 "nbformat": 4,
 "nbformat_minor": 5
}
